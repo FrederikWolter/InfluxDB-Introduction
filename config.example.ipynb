{
 "cells": [
  {
   "cell_type": "markdown",
   "id": "0ec50a93",
   "metadata": {},
   "source": [
    "# Config for InfluxDB-Introduction"
   ]
  },
  {
   "cell_type": "markdown",
   "id": "b7fe1c89",
   "metadata": {},
   "source": [
    "## Config for InfluxDB connection "
   ]
  },
  {
   "cell_type": "code",
   "execution_count": null,
   "id": "4cd0f724",
   "metadata": {},
   "outputs": [],
   "source": [
    "%env INFLUXDB_TOKEN=INSERT_TOKEN_HERE"
   ]
  }
 ],
 "metadata": {
  "kernelspec": {
   "display_name": "Python 3 (ipykernel)",
   "language": "python",
   "name": "python3"
  },
  "language_info": {
   "codemirror_mode": {
    "name": "ipython",
    "version": 3
   },
   "file_extension": ".py",
   "mimetype": "text/x-python",
   "name": "python",
   "nbconvert_exporter": "python",
   "pygments_lexer": "ipython3",
   "version": "3.11.1"
  }
 },
 "nbformat": 4,
 "nbformat_minor": 5
}
